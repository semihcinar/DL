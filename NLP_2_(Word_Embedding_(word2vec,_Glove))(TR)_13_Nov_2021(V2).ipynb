{
  "nbformat": 4,
  "nbformat_minor": 0,
  "metadata": {
    "kernelspec": {
      "display_name": "Python 3",
      "language": "python",
      "name": "python3"
    },
    "language_info": {
      "codemirror_mode": {
        "name": "ipython",
        "version": 3
      },
      "file_extension": ".py",
      "mimetype": "text/x-python",
      "name": "python",
      "nbconvert_exporter": "python",
      "pygments_lexer": "ipython3",
      "version": "3.7.9"
    },
    "colab": {
      "name": "NLP-2 (Word Embedding (word2vec, Glove))(TR)-13 Nov 2021(V2).ipynb",
      "provenance": [],
      "include_colab_link": true
    }
  },
  "cells": [
    {
      "cell_type": "markdown",
      "metadata": {
        "id": "view-in-github",
        "colab_type": "text"
      },
      "source": [
        "<a href=\"https://colab.research.google.com/github/semihcinar/DL/blob/semihcinar%2FSQL-Gunluk-Test1/NLP_2_(Word_Embedding_(word2vec%2C_Glove))(TR)_13_Nov_2021(V2).ipynb\" target=\"_parent\"><img src=\"https://colab.research.google.com/assets/colab-badge.svg\" alt=\"Open In Colab\"/></a>"
      ]
    },
    {
      "cell_type": "markdown",
      "metadata": {
        "id": "Qouc8NqEJ_1u"
      },
      "source": [
        "## NLP Lab-1"
      ]
    },
    {
      "cell_type": "markdown",
      "metadata": {
        "id": "Eqd38SllJ_1y"
      },
      "source": [
        "## Word_embedding"
      ]
    },
    {
      "cell_type": "markdown",
      "metadata": {
        "id": "9x1BHhFKJ_1y"
      },
      "source": [
        "## Word2Vec"
      ]
    },
    {
      "cell_type": "code",
      "metadata": {
        "colab": {
          "base_uri": "https://localhost:8080/"
        },
        "id": "vW4dshSObxl1",
        "outputId": "2ec69ed9-b11f-4f9e-9bd9-45c51d132bb5"
      },
      "source": [
        "!pip install firebase-admin\n"
      ],
      "execution_count": 4,
      "outputs": [
        {
          "output_type": "stream",
          "name": "stdout",
          "text": [
            "Requirement already satisfied: firebase-admin in /usr/local/lib/python3.7/dist-packages (4.4.0)\n",
            "Requirement already satisfied: google-api-python-client>=1.7.8 in /usr/local/lib/python3.7/dist-packages (from firebase-admin) (1.12.8)\n",
            "Requirement already satisfied: google-cloud-storage>=1.18.0 in /usr/local/lib/python3.7/dist-packages (from firebase-admin) (1.18.1)\n",
            "Requirement already satisfied: google-api-core[grpc]<2.0.0dev,>=1.14.0 in /usr/local/lib/python3.7/dist-packages (from firebase-admin) (1.26.3)\n",
            "Requirement already satisfied: google-cloud-firestore>=1.4.0 in /usr/local/lib/python3.7/dist-packages (from firebase-admin) (1.7.0)\n",
            "Requirement already satisfied: cachecontrol>=0.12.6 in /usr/local/lib/python3.7/dist-packages (from firebase-admin) (0.12.10)\n",
            "Requirement already satisfied: msgpack>=0.5.2 in /usr/local/lib/python3.7/dist-packages (from cachecontrol>=0.12.6->firebase-admin) (1.0.2)\n",
            "Requirement already satisfied: requests in /usr/local/lib/python3.7/dist-packages (from cachecontrol>=0.12.6->firebase-admin) (2.23.0)\n",
            "Requirement already satisfied: googleapis-common-protos<2.0dev,>=1.6.0 in /usr/local/lib/python3.7/dist-packages (from google-api-core[grpc]<2.0.0dev,>=1.14.0->firebase-admin) (1.53.0)\n",
            "Requirement already satisfied: setuptools>=40.3.0 in /usr/local/lib/python3.7/dist-packages (from google-api-core[grpc]<2.0.0dev,>=1.14.0->firebase-admin) (57.4.0)\n",
            "Requirement already satisfied: six>=1.13.0 in /usr/local/lib/python3.7/dist-packages (from google-api-core[grpc]<2.0.0dev,>=1.14.0->firebase-admin) (1.15.0)\n",
            "Requirement already satisfied: protobuf>=3.12.0 in /usr/local/lib/python3.7/dist-packages (from google-api-core[grpc]<2.0.0dev,>=1.14.0->firebase-admin) (3.17.3)\n",
            "Requirement already satisfied: pytz in /usr/local/lib/python3.7/dist-packages (from google-api-core[grpc]<2.0.0dev,>=1.14.0->firebase-admin) (2018.9)\n",
            "Requirement already satisfied: google-auth<2.0dev,>=1.21.1 in /usr/local/lib/python3.7/dist-packages (from google-api-core[grpc]<2.0.0dev,>=1.14.0->firebase-admin) (1.35.0)\n",
            "Requirement already satisfied: packaging>=14.3 in /usr/local/lib/python3.7/dist-packages (from google-api-core[grpc]<2.0.0dev,>=1.14.0->firebase-admin) (21.2)\n",
            "Requirement already satisfied: grpcio<2.0dev,>=1.29.0 in /usr/local/lib/python3.7/dist-packages (from google-api-core[grpc]<2.0.0dev,>=1.14.0->firebase-admin) (1.41.1)\n",
            "Requirement already satisfied: google-auth-httplib2>=0.0.3 in /usr/local/lib/python3.7/dist-packages (from google-api-python-client>=1.7.8->firebase-admin) (0.0.4)\n",
            "Requirement already satisfied: httplib2<1dev,>=0.15.0 in /usr/local/lib/python3.7/dist-packages (from google-api-python-client>=1.7.8->firebase-admin) (0.17.4)\n",
            "Requirement already satisfied: uritemplate<4dev,>=3.0.0 in /usr/local/lib/python3.7/dist-packages (from google-api-python-client>=1.7.8->firebase-admin) (3.0.1)\n",
            "Requirement already satisfied: cachetools<5.0,>=2.0.0 in /usr/local/lib/python3.7/dist-packages (from google-auth<2.0dev,>=1.21.1->google-api-core[grpc]<2.0.0dev,>=1.14.0->firebase-admin) (4.2.4)\n",
            "Requirement already satisfied: pyasn1-modules>=0.2.1 in /usr/local/lib/python3.7/dist-packages (from google-auth<2.0dev,>=1.21.1->google-api-core[grpc]<2.0.0dev,>=1.14.0->firebase-admin) (0.2.8)\n",
            "Requirement already satisfied: rsa<5,>=3.1.4 in /usr/local/lib/python3.7/dist-packages (from google-auth<2.0dev,>=1.21.1->google-api-core[grpc]<2.0.0dev,>=1.14.0->firebase-admin) (4.7.2)\n",
            "Requirement already satisfied: google-cloud-core<2.0dev,>=1.0.3 in /usr/local/lib/python3.7/dist-packages (from google-cloud-firestore>=1.4.0->firebase-admin) (1.0.3)\n",
            "Requirement already satisfied: google-resumable-media<0.5.0dev,>=0.3.1 in /usr/local/lib/python3.7/dist-packages (from google-cloud-storage>=1.18.0->firebase-admin) (0.4.1)\n",
            "Requirement already satisfied: pyparsing<3,>=2.0.2 in /usr/local/lib/python3.7/dist-packages (from packaging>=14.3->google-api-core[grpc]<2.0.0dev,>=1.14.0->firebase-admin) (2.4.7)\n",
            "Requirement already satisfied: pyasn1<0.5.0,>=0.4.6 in /usr/local/lib/python3.7/dist-packages (from pyasn1-modules>=0.2.1->google-auth<2.0dev,>=1.21.1->google-api-core[grpc]<2.0.0dev,>=1.14.0->firebase-admin) (0.4.8)\n",
            "Requirement already satisfied: urllib3!=1.25.0,!=1.25.1,<1.26,>=1.21.1 in /usr/local/lib/python3.7/dist-packages (from requests->cachecontrol>=0.12.6->firebase-admin) (1.24.3)\n",
            "Requirement already satisfied: certifi>=2017.4.17 in /usr/local/lib/python3.7/dist-packages (from requests->cachecontrol>=0.12.6->firebase-admin) (2021.10.8)\n",
            "Requirement already satisfied: idna<3,>=2.5 in /usr/local/lib/python3.7/dist-packages (from requests->cachecontrol>=0.12.6->firebase-admin) (2.10)\n",
            "Requirement already satisfied: chardet<4,>=3.0.2 in /usr/local/lib/python3.7/dist-packages (from requests->cachecontrol>=0.12.6->firebase-admin) (3.0.4)\n"
          ]
        }
      ]
    },
    {
      "cell_type": "code",
      "metadata": {
        "id": "CuMUCS6OAzGe"
      },
      "source": [
        "from pydrive.auth import GoogleAuth\n",
        "from pydrive.drive import GoogleDrive\n",
        "from google.colab import auth\n",
        "from oauth2client.client import GoogleCredentials"
      ],
      "execution_count": 1,
      "outputs": []
    },
    {
      "cell_type": "code",
      "metadata": {
        "id": "a4_-5RfkJ_10"
      },
      "source": [
        "import numpy as np\n",
        "import pandas as pd\n",
        "from gensim.models import Word2Vec\n",
        "from sklearn.manifold import TSNE\n",
        "import matplotlib.pyplot as plt"
      ],
      "execution_count": null,
      "outputs": []
    },
    {
      "cell_type": "code",
      "metadata": {
        "id": "UmOP8RvSKDQ3"
      },
      "source": [
        ""
      ],
      "execution_count": null,
      "outputs": []
    },
    {
      "cell_type": "code",
      "metadata": {
        "colab": {
          "base_uri": "https://localhost:8080/"
        },
        "id": "VjcRC2VnaBI9",
        "outputId": "a40e6ed9-1f10-4b7e-c2ca-508e03705907"
      },
      "source": [
        "from google.colab import drive\n",
        "drive.mount('/content/drive')\n"
      ],
      "execution_count": null,
      "outputs": [
        {
          "output_type": "stream",
          "name": "stdout",
          "text": [
            "Drive already mounted at /content/drive; to attempt to forcibly remount, call drive.mount(\"/content/drive\", force_remount=True).\n"
          ]
        }
      ]
    },
    {
      "cell_type": "code",
      "metadata": {
        "id": "0TPxEuMzaRNo"
      },
      "source": [
        "path=\"/content/drive/MyDrive/clarus/DL/DuyguAnalizi/newspaper.txt\"\n",
        "df=pd.read_csv(path)"
      ],
      "execution_count": null,
      "outputs": []
    },
    {
      "cell_type": "code",
      "metadata": {
        "id": "mSr1gUVzjXTj"
      },
      "source": [
        ""
      ],
      "execution_count": null,
      "outputs": []
    },
    {
      "cell_type": "code",
      "metadata": {
        "colab": {
          "base_uri": "https://localhost:8080/",
          "height": 128
        },
        "id": "_5bg94CEkhPV",
        "outputId": "13d226e3-d129-4b2b-88bc-582937e8ff26"
      },
      "source": [
        "df.head(2)"
      ],
      "execution_count": null,
      "outputs": [
        {
          "output_type": "execute_result",
          "data": {
            "text/html": [
              "<div>\n",
              "<style scoped>\n",
              "    .dataframe tbody tr th:only-of-type {\n",
              "        vertical-align: middle;\n",
              "    }\n",
              "\n",
              "    .dataframe tbody tr th {\n",
              "        vertical-align: top;\n",
              "    }\n",
              "\n",
              "    .dataframe thead th {\n",
              "        text-align: right;\n",
              "    }\n",
              "</style>\n",
              "<table border=\"1\" class=\"dataframe\">\n",
              "  <thead>\n",
              "    <tr style=\"text-align: right;\">\n",
              "      <th></th>\n",
              "      <th>iran devlet televizyonu ülkedeki eyaletin sinde yapılan reformcuları protesto amaçlı yürüyüşlere milyonlarca kişinin katıldığını bildirdi</th>\n",
              "    </tr>\n",
              "  </thead>\n",
              "  <tbody>\n",
              "    <tr>\n",
              "      <th>0</th>\n",
              "      <td>gösterilerde fitnecilere ölüm münafıklara ölüm...</td>\n",
              "    </tr>\n",
              "    <tr>\n",
              "      <th>1</th>\n",
              "      <td>dini lider ali hamaney ve cumhurbaşkanı mahmud...</td>\n",
              "    </tr>\n",
              "  </tbody>\n",
              "</table>\n",
              "</div>"
            ],
            "text/plain": [
              "  iran devlet televizyonu ülkedeki eyaletin sinde yapılan reformcuları protesto amaçlı yürüyüşlere milyonlarca kişinin katıldığını bildirdi \n",
              "0  gösterilerde fitnecilere ölüm münafıklara ölüm...                                                                                        \n",
              "1  dini lider ali hamaney ve cumhurbaşkanı mahmud...                                                                                        "
            ]
          },
          "metadata": {},
          "execution_count": 39
        }
      ]
    },
    {
      "cell_type": "code",
      "metadata": {
        "colab": {
          "base_uri": "https://localhost:8080/"
        },
        "id": "kV-jm2Vcknrz",
        "outputId": "15940762-e7ce-4c17-94dd-a68e39191590"
      },
      "source": [
        "df.info()"
      ],
      "execution_count": null,
      "outputs": [
        {
          "output_type": "stream",
          "name": "stdout",
          "text": [
            "<class 'pandas.core.frame.DataFrame'>\n",
            "RangeIndex: 411524 entries, 0 to 411523\n",
            "Data columns (total 1 columns):\n",
            " #   Column                                                                                                                                      Non-Null Count   Dtype \n",
            "---  ------                                                                                                                                      --------------   ----- \n",
            " 0   iran devlet televizyonu ülkedeki eyaletin sinde yapılan reformcuları protesto amaçlı yürüyüşlere milyonlarca kişinin katıldığını bildirdi   411524 non-null  object\n",
            "dtypes: object(1)\n",
            "memory usage: 3.1+ MB\n"
          ]
        }
      ]
    },
    {
      "cell_type": "code",
      "metadata": {
        "id": "oKflQXpNkKsD"
      },
      "source": [
        ""
      ],
      "execution_count": null,
      "outputs": []
    },
    {
      "cell_type": "code",
      "metadata": {
        "id": "jUKaUdhCJ_1z",
        "colab": {
          "base_uri": "https://localhost:8080/"
        },
        "outputId": "0a2faffd-91ce-4ad2-8a6f-308dc350db3c"
      },
      "source": [
        " pip install gensim"
      ],
      "execution_count": null,
      "outputs": [
        {
          "output_type": "stream",
          "name": "stdout",
          "text": [
            "Requirement already satisfied: gensim in /usr/local/lib/python3.7/dist-packages (3.6.0)\n",
            "Requirement already satisfied: scipy>=0.18.1 in /usr/local/lib/python3.7/dist-packages (from gensim) (1.4.1)\n",
            "Requirement already satisfied: smart-open>=1.2.1 in /usr/local/lib/python3.7/dist-packages (from gensim) (5.2.1)\n",
            "Requirement already satisfied: numpy>=1.11.3 in /usr/local/lib/python3.7/dist-packages (from gensim) (1.19.5)\n",
            "Requirement already satisfied: six>=1.5.0 in /usr/local/lib/python3.7/dist-packages (from gensim) (1.15.0)\n"
          ]
        }
      ]
    },
    {
      "cell_type": "code",
      "metadata": {
        "id": "-H69eJc5J_10",
        "colab": {
          "base_uri": "https://localhost:8080/",
          "height": 350
        },
        "outputId": "b508d333-6fc5-4cb3-de21-168a64a952f6"
      },
      "source": [
        "#text = open('newspaper.txt', 'r', encoding='utf8')\n",
        "#text = text.read()\n",
        "list_sent = df.split('\\n')\n",
        "\n",
        "corpus = []\n",
        "\n",
        "for sent in list_sent:\n",
        "    corpus.append(sent.split())"
      ],
      "execution_count": null,
      "outputs": [
        {
          "output_type": "error",
          "ename": "AttributeError",
          "evalue": "ignored",
          "traceback": [
            "\u001b[0;31m---------------------------------------------------------------------------\u001b[0m",
            "\u001b[0;31mAttributeError\u001b[0m                            Traceback (most recent call last)",
            "\u001b[0;32m<ipython-input-34-15f7542290d9>\u001b[0m in \u001b[0;36m<module>\u001b[0;34m()\u001b[0m\n\u001b[1;32m      1\u001b[0m \u001b[0;31m#text = open('newspaper.txt', 'r', encoding='utf8')\u001b[0m\u001b[0;34m\u001b[0m\u001b[0;34m\u001b[0m\u001b[0;34m\u001b[0m\u001b[0m\n\u001b[1;32m      2\u001b[0m \u001b[0;31m#text = text.read()\u001b[0m\u001b[0;34m\u001b[0m\u001b[0;34m\u001b[0m\u001b[0;34m\u001b[0m\u001b[0m\n\u001b[0;32m----> 3\u001b[0;31m \u001b[0mlist_sent\u001b[0m \u001b[0;34m=\u001b[0m \u001b[0mdf\u001b[0m\u001b[0;34m.\u001b[0m\u001b[0msplit\u001b[0m\u001b[0;34m(\u001b[0m\u001b[0;34m'\\n'\u001b[0m\u001b[0;34m)\u001b[0m\u001b[0;34m\u001b[0m\u001b[0;34m\u001b[0m\u001b[0m\n\u001b[0m\u001b[1;32m      4\u001b[0m \u001b[0;34m\u001b[0m\u001b[0m\n\u001b[1;32m      5\u001b[0m \u001b[0mcorpus\u001b[0m \u001b[0;34m=\u001b[0m \u001b[0;34m[\u001b[0m\u001b[0;34m]\u001b[0m\u001b[0;34m\u001b[0m\u001b[0;34m\u001b[0m\u001b[0m\n",
            "\u001b[0;32m/usr/local/lib/python3.7/dist-packages/pandas/core/generic.py\u001b[0m in \u001b[0;36m__getattr__\u001b[0;34m(self, name)\u001b[0m\n\u001b[1;32m   5139\u001b[0m             \u001b[0;32mif\u001b[0m \u001b[0mself\u001b[0m\u001b[0;34m.\u001b[0m\u001b[0m_info_axis\u001b[0m\u001b[0;34m.\u001b[0m\u001b[0m_can_hold_identifiers_and_holds_name\u001b[0m\u001b[0;34m(\u001b[0m\u001b[0mname\u001b[0m\u001b[0;34m)\u001b[0m\u001b[0;34m:\u001b[0m\u001b[0;34m\u001b[0m\u001b[0;34m\u001b[0m\u001b[0m\n\u001b[1;32m   5140\u001b[0m                 \u001b[0;32mreturn\u001b[0m \u001b[0mself\u001b[0m\u001b[0;34m[\u001b[0m\u001b[0mname\u001b[0m\u001b[0;34m]\u001b[0m\u001b[0;34m\u001b[0m\u001b[0;34m\u001b[0m\u001b[0m\n\u001b[0;32m-> 5141\u001b[0;31m             \u001b[0;32mreturn\u001b[0m \u001b[0mobject\u001b[0m\u001b[0;34m.\u001b[0m\u001b[0m__getattribute__\u001b[0m\u001b[0;34m(\u001b[0m\u001b[0mself\u001b[0m\u001b[0;34m,\u001b[0m \u001b[0mname\u001b[0m\u001b[0;34m)\u001b[0m\u001b[0;34m\u001b[0m\u001b[0;34m\u001b[0m\u001b[0m\n\u001b[0m\u001b[1;32m   5142\u001b[0m \u001b[0;34m\u001b[0m\u001b[0m\n\u001b[1;32m   5143\u001b[0m     \u001b[0;32mdef\u001b[0m \u001b[0m__setattr__\u001b[0m\u001b[0;34m(\u001b[0m\u001b[0mself\u001b[0m\u001b[0;34m,\u001b[0m \u001b[0mname\u001b[0m\u001b[0;34m:\u001b[0m \u001b[0mstr\u001b[0m\u001b[0;34m,\u001b[0m \u001b[0mvalue\u001b[0m\u001b[0;34m)\u001b[0m \u001b[0;34m->\u001b[0m \u001b[0;32mNone\u001b[0m\u001b[0;34m:\u001b[0m\u001b[0;34m\u001b[0m\u001b[0;34m\u001b[0m\u001b[0m\n",
            "\u001b[0;31mAttributeError\u001b[0m: 'DataFrame' object has no attribute 'split'"
          ]
        }
      ]
    },
    {
      "cell_type": "code",
      "metadata": {
        "id": "-83n-KUxJ_10",
        "outputId": "6af7b772-0dc1-4995-d502-9b7bd31f1bea"
      },
      "source": [
        "print(corpus[:10])"
      ],
      "execution_count": null,
      "outputs": [
        {
          "name": "stdout",
          "output_type": "stream",
          "text": [
            "[['iran', 'devlet', 'televizyonu', 'ülkedeki', 'eyaletin', 'sinde', 'yapılan', 'reformcuları', 'protesto', 'amaçlı', 'yürüyüşlere', 'milyonlarca', 'kişinin', 'katıldığını', 'bildirdi'], ['gösterilerde', 'fitnecilere', 'ölüm', 'münafıklara', 'ölüm', 'abd', 'ye', 'ölüm', 'ingiltere', 'ye', 'ölüm', 'sloganları', 'atıldı'], ['dini', 'lider', 'ali', 'hamaney', 've', 'cumhurbaşkanı', 'mahmud', 'ahmedinejad', 'ı', 'destekleyen', 'iranlılar', 'son', 'olaylarda', 'yeğeni', 'öldürülen', 'mir', 'hüseyin', 'musevi', 'başta', 'olmak', 'üzere', 'muhalefet', 'liderlerini', 'kınadılar'], ['musevi', 'ye', 'ölüm', 've', 'idam', 'idam', 'sloganları', 'duyuldu'], ['muhalefet', 'liderleri', 'kaçtı', 'mı', 'aşure', 'günü', 'yaşanan', 'çatışmalarda', 'devlet', 'kaynaklarına', 'göre', 'u', 'terörist', 'olmak', 'üzere', 'kişi', 'ölmüştü'], ['den', 'fazla', 'kişinin', 'yaralandığı', 'olaylar', 'sırasında', 'en', 'az', 'kişi', 'tutuklanmıştı'], ['öte', 'yandan', 'iran', 'haber', 'ajansı', 'irna', 'muhalif', 'liderler', 'mir', 'hüseyin', 'musevi', 've', 'mehdi', 'kerrubi', 'nin', 'başkentten', 'kaçarak', 'ülkenin', 'kuzeyine', 'geçtiğini', 'ileri', 'sürdü', 'ancak', 'muhalefet', 'iddiayı', 'yalanladı'], ['hamaney', 'in', 'bir', 'dönem', 'korumalığını', 'yapan', 've', 'şu', 'anda', 'fransa', 'da', 'saklandığı', 'söylenen', 'bir', 'kişinin', 'muhalefete', 'verdiği', 'bilgilere', 'göre', 'münzevi', 'yaşamı', 'na', 'rağmen', 'dini', 'liderin', 'havyara', 'karşı', 'korkunç', 'bir', 'iştahı', 'var'], ['baston', 've', 'at', 'meraklısı', 'hamaney', 'aynı', 'zamanda', 'değerli', 'mücevherlerle', 'bezenmiş', 'bastonların', 've', 'cins', 'atların', 'koleksiyonunu', 'yapıyor'], ['hamaney', 'in', 'antika', 'bastonlarının', 'sayısı']]\n"
          ]
        }
      ]
    },
    {
      "cell_type": "code",
      "metadata": {
        "id": "kYrMejo_J_11",
        "outputId": "da1f2a84-139d-45d2-bee3-7cffc7955434"
      },
      "source": [
        "text[:1000]"
      ],
      "execution_count": null,
      "outputs": [
        {
          "data": {
            "text/plain": [
              "'iran devlet televizyonu ülkedeki eyaletin sinde yapılan reformcuları protesto amaçlı yürüyüşlere milyonlarca kişinin katıldığını bildirdi \\ngösterilerde fitnecilere ölüm münafıklara ölüm abd ye ölüm ingiltere ye ölüm sloganları atıldı \\ndini lider ali hamaney ve cumhurbaşkanı mahmud ahmedinejad ı destekleyen iranlılar son olaylarda yeğeni öldürülen mir hüseyin musevi başta olmak üzere muhalefet liderlerini kınadılar \\nmusevi ye ölüm ve idam idam sloganları duyuldu \\nmuhalefet liderleri kaçtı mı aşure günü yaşanan çatışmalarda devlet kaynaklarına göre u terörist olmak üzere kişi ölmüştü \\nden fazla kişinin yaralandığı olaylar sırasında en az kişi tutuklanmıştı \\nöte yandan iran haber ajansı irna muhalif liderler mir hüseyin musevi ve mehdi kerrubi nin başkentten kaçarak ülkenin kuzeyine geçtiğini ileri sürdü ancak muhalefet iddiayı yalanladı \\nhamaney in bir dönem korumalığını yapan ve şu anda fransa da saklandığı söylenen bir kişinin muhalefete verdiği bilgilere göre münzevi yaşamı na rağmen '"
            ]
          },
          "execution_count": 5,
          "metadata": {},
          "output_type": "execute_result"
        }
      ]
    },
    {
      "cell_type": "code",
      "metadata": {
        "id": "BwWesNXkJ_12",
        "outputId": "bd7bc02c-41d2-4d90-d4c0-38e00f75fe1b"
      },
      "source": [
        "list_sent[:10]"
      ],
      "execution_count": null,
      "outputs": [
        {
          "data": {
            "text/plain": [
              "['iran devlet televizyonu ülkedeki eyaletin sinde yapılan reformcuları protesto amaçlı yürüyüşlere milyonlarca kişinin katıldığını bildirdi ',\n",
              " 'gösterilerde fitnecilere ölüm münafıklara ölüm abd ye ölüm ingiltere ye ölüm sloganları atıldı ',\n",
              " 'dini lider ali hamaney ve cumhurbaşkanı mahmud ahmedinejad ı destekleyen iranlılar son olaylarda yeğeni öldürülen mir hüseyin musevi başta olmak üzere muhalefet liderlerini kınadılar ',\n",
              " 'musevi ye ölüm ve idam idam sloganları duyuldu ',\n",
              " 'muhalefet liderleri kaçtı mı aşure günü yaşanan çatışmalarda devlet kaynaklarına göre u terörist olmak üzere kişi ölmüştü ',\n",
              " 'den fazla kişinin yaralandığı olaylar sırasında en az kişi tutuklanmıştı ',\n",
              " 'öte yandan iran haber ajansı irna muhalif liderler mir hüseyin musevi ve mehdi kerrubi nin başkentten kaçarak ülkenin kuzeyine geçtiğini ileri sürdü ancak muhalefet iddiayı yalanladı ',\n",
              " 'hamaney in bir dönem korumalığını yapan ve şu anda fransa da saklandığı söylenen bir kişinin muhalefete verdiği bilgilere göre münzevi yaşamı na rağmen dini liderin havyara karşı korkunç bir iştahı var ',\n",
              " 'baston ve at meraklısı hamaney aynı zamanda değerli mücevherlerle bezenmiş bastonların ve cins atların koleksiyonunu yapıyor ',\n",
              " 'hamaney in antika bastonlarının sayısı ']"
            ]
          },
          "execution_count": 7,
          "metadata": {},
          "output_type": "execute_result"
        }
      ]
    },
    {
      "cell_type": "code",
      "metadata": {
        "id": "fmAyj36TJ_12"
      },
      "source": [
        ""
      ],
      "execution_count": null,
      "outputs": []
    },
    {
      "cell_type": "code",
      "metadata": {
        "id": "JQDP6XQGJ_13"
      },
      "source": [
        "model = Word2Vec(corpus, size=100, window=5, min_count=5, sg=1)"
      ],
      "execution_count": null,
      "outputs": []
    },
    {
      "cell_type": "code",
      "metadata": {
        "id": "AcP9OkTgJ_13",
        "outputId": "2fb6d129-8089-4f6e-b3d9-28e1675ad19e"
      },
      "source": [
        "model.wv['ankara']"
      ],
      "execution_count": null,
      "outputs": [
        {
          "data": {
            "text/plain": [
              "array([ 0.28124622, -0.40046975,  0.4623563 , -0.26006582,  0.4291707 ,\n",
              "       -0.5458609 , -0.36119318, -0.28867924, -0.60250515,  0.4237076 ,\n",
              "        0.28818154, -0.17176527,  0.19708447, -0.37333247, -0.5264093 ,\n",
              "       -0.6427167 ,  0.14568327,  0.17329371, -0.5378837 , -0.3682972 ,\n",
              "       -0.15588258, -0.20114157,  0.67830926,  0.04082025, -0.19011535,\n",
              "        0.59075046, -0.6102628 , -0.42992386, -0.12169785, -0.2939379 ,\n",
              "       -0.13670284, -0.13515596, -0.1399645 , -0.72388405, -0.7582215 ,\n",
              "        0.10269422,  0.23371245,  0.02973733,  0.10352834,  0.17330961,\n",
              "        0.31032264, -0.00689159, -0.51990616,  0.4342847 ,  0.24778119,\n",
              "        0.08977021,  0.37872604,  0.2631365 ,  0.11655401,  0.02951079,\n",
              "        0.2531644 ,  0.03372194, -0.35848543, -0.21600617,  0.33282214,\n",
              "        0.27077678,  0.53709596,  0.26062086, -0.24004991,  0.10561307,\n",
              "        0.36568683, -0.8039388 ,  0.41826522, -0.32496533,  0.21453372,\n",
              "       -0.1572319 , -0.7251499 ,  0.08052048,  0.08987505,  0.1112271 ,\n",
              "        0.14825632,  0.58504164,  0.684992  ,  0.00776701,  0.18076658,\n",
              "       -0.09477395, -0.1137936 ,  0.5623219 , -0.3188122 ,  0.5662095 ,\n",
              "        0.32072476,  0.17244305, -0.58838886, -0.05057955, -0.47085264,\n",
              "       -0.17080188, -0.17386362, -0.12876017, -0.02662375,  0.36869773,\n",
              "       -0.23252094, -0.10350469, -0.09519712, -0.09009365, -0.2726341 ,\n",
              "       -0.04719334, -0.25645226, -0.03347286,  0.10456851,  0.06934233],\n",
              "      dtype=float32)"
            ]
          },
          "execution_count": 6,
          "metadata": {},
          "output_type": "execute_result"
        }
      ]
    },
    {
      "cell_type": "code",
      "metadata": {
        "id": "njhEGJUXJ_13",
        "outputId": "d38aadee-fd16-4832-a8ba-f285a54eca56"
      },
      "source": [
        "model.wv.most_similar('birşey')"
      ],
      "execution_count": null,
      "outputs": [
        {
          "data": {
            "text/plain": [
              "[('şeyim', 0.850453794002533),\n",
              " ('sorunum', 0.8483362197875977),\n",
              " ('yapmadım', 0.8398408889770508),\n",
              " ('muydu', 0.8358216881752014),\n",
              " ('şeyle', 0.8337851762771606),\n",
              " ('yapabileceğim', 0.8333901166915894),\n",
              " ('olmadığımı', 0.8305532932281494),\n",
              " ('göstermesin', 0.8273885250091553),\n",
              " ('utanılacak', 0.8258845806121826),\n",
              " ('saklayacak', 0.8258367776870728)]"
            ]
          },
          "execution_count": 7,
          "metadata": {},
          "output_type": "execute_result"
        }
      ]
    },
    {
      "cell_type": "code",
      "metadata": {
        "id": "pf1Qs-7IJ_14",
        "outputId": "638ab11d-b9f9-43f1-c2fe-8c0e95837396"
      },
      "source": [
        "model.wv.most_similar('eve')"
      ],
      "execution_count": null,
      "outputs": [
        {
          "name": "stderr",
          "output_type": "stream",
          "text": [
            "C:\\Users\\walke\\anaconda3\\lib\\site-packages\\ipykernel_launcher.py:1: DeprecationWarning: Call to deprecated `most_similar` (Method will be removed in 4.0.0, use self.wv.most_similar() instead).\n",
            "  \"\"\"Entry point for launching an IPython kernel.\n"
          ]
        },
        {
          "data": {
            "text/plain": [
              "[('evine', 0.8135201930999756),\n",
              " ('dükkana', 0.7653349041938782),\n",
              " ('apartmana', 0.7476628422737122),\n",
              " ('arabaya', 0.7395895719528198),\n",
              " ('evden', 0.7200160026550293),\n",
              " ('mağazaya', 0.7120614051818848),\n",
              " ('köye', 0.7111074924468994),\n",
              " ('odasına', 0.7103335857391357),\n",
              " ('karakola', 0.6982080936431885),\n",
              " ('otobüse', 0.6951174139976501)]"
            ]
          },
          "execution_count": 8,
          "metadata": {},
          "output_type": "execute_result"
        }
      ]
    },
    {
      "cell_type": "code",
      "metadata": {
        "id": "ztM4MEc7J_14",
        "outputId": "7a3ea9ff-cb15-4b44-acee-f06a8e0a8b54"
      },
      "source": [
        "model.wv.most_similar('mavi')"
      ],
      "execution_count": null,
      "outputs": [
        {
          "name": "stderr",
          "output_type": "stream",
          "text": [
            "C:\\Users\\walke\\anaconda3\\lib\\site-packages\\ipykernel_launcher.py:1: DeprecationWarning: Call to deprecated `most_similar` (Method will be removed in 4.0.0, use self.wv.most_similar() instead).\n",
            "  \"\"\"Entry point for launching an IPython kernel.\n"
          ]
        },
        {
          "data": {
            "text/plain": [
              "[('marmara', 0.8875499367713928),\n",
              " ('gemisine', 0.6709281802177429),\n",
              " ('dökme', 0.6616238951683044),\n",
              " ('baskınıyla', 0.6572282314300537),\n",
              " ('baskınının', 0.6354619264602661),\n",
              " ('baskınına', 0.6334819793701172),\n",
              " ('gemisindeki', 0.6038313508033752),\n",
              " ('filosundaki', 0.6037972569465637),\n",
              " ('gemisinde', 0.6036198735237122),\n",
              " ('israil', 0.5984896421432495)]"
            ]
          },
          "execution_count": 9,
          "metadata": {},
          "output_type": "execute_result"
        }
      ]
    },
    {
      "cell_type": "code",
      "metadata": {
        "id": "BvLrDM6lJ_14",
        "outputId": "f929978c-c84c-4cef-edbc-5c4c6ca529a0"
      },
      "source": [
        "model.wv.most_similar(positive=['öğrenme', 'doktor'], negative=['tedavi'], topn=1)"
      ],
      "execution_count": null,
      "outputs": [
        {
          "data": {
            "text/plain": [
              "[('psikoloji', 0.6419076919555664)]"
            ]
          },
          "execution_count": 10,
          "metadata": {},
          "output_type": "execute_result"
        }
      ]
    },
    {
      "cell_type": "code",
      "metadata": {
        "id": "SDtLtLBNJ_15",
        "outputId": "0de8dec2-ac94-485c-a56e-4f8877898172"
      },
      "source": [
        "model.wv.most_similar(positive=['ankara', 'rusya'], negative=['moskova'], topn=1)"
      ],
      "execution_count": null,
      "outputs": [
        {
          "data": {
            "text/plain": [
              "[('türkiye', 0.7441005706787109)]"
            ]
          },
          "execution_count": 11,
          "metadata": {},
          "output_type": "execute_result"
        }
      ]
    },
    {
      "cell_type": "code",
      "metadata": {
        "id": "7F0jmKGTJ_15"
      },
      "source": [
        "model.save(\"word2vec.model\")"
      ],
      "execution_count": null,
      "outputs": []
    },
    {
      "cell_type": "code",
      "metadata": {
        "id": "Jqu7YnWIJ_15"
      },
      "source": [
        "model = Word2Vec.load(\"word2vec.model\")"
      ],
      "execution_count": null,
      "outputs": []
    },
    {
      "cell_type": "markdown",
      "metadata": {
        "id": "htpdPMObJ_15"
      },
      "source": [
        "## Glove"
      ]
    },
    {
      "cell_type": "code",
      "metadata": {
        "id": "uvZipsAIJ_16"
      },
      "source": [
        "from gensim.scripts.glove2word2vec import glove2word2vec\n",
        "from gensim.models import KeyedVectors"
      ],
      "execution_count": null,
      "outputs": []
    },
    {
      "cell_type": "code",
      "metadata": {
        "id": "KLE3FgRPJ_16",
        "outputId": "b7125672-408a-4edf-85b3-35480df854bc"
      },
      "source": [
        "glove_model = 'glove.6B.100d.txt'\n",
        "word2vec = 'glove.6B.100d.glove'\n",
        "glove2word2vec(glove_model, word2vec)"
      ],
      "execution_count": null,
      "outputs": [
        {
          "data": {
            "text/plain": [
              "(400000, 100)"
            ]
          },
          "execution_count": 14,
          "metadata": {},
          "output_type": "execute_result"
        }
      ]
    },
    {
      "cell_type": "code",
      "metadata": {
        "id": "Et5jLm1WJ_16"
      },
      "source": [
        "model2 = KeyedVectors.load_word2vec_format(word2vec)"
      ],
      "execution_count": null,
      "outputs": []
    },
    {
      "cell_type": "code",
      "metadata": {
        "id": "ctPTNUwxJ_16",
        "outputId": "4dd055fe-efd4-4325-8a87-67a50436623c"
      },
      "source": [
        "model2['izmir']"
      ],
      "execution_count": null,
      "outputs": [
        {
          "data": {
            "text/plain": [
              "array([ 0.0021052, -0.1504   ,  0.44277  , -0.77653  ,  0.049685 ,\n",
              "        0.36162  , -0.64556  ,  0.031965 ,  0.32785  ,  1.0492   ,\n",
              "       -0.40957  , -0.43448  ,  0.86788  ,  0.13176  , -0.33421  ,\n",
              "        0.078688 , -0.44023  , -0.78494  , -0.80508  , -0.053829 ,\n",
              "        0.21349  , -0.1304   ,  0.55552  ,  0.80507  , -0.54116  ,\n",
              "        0.14223  , -0.086403 ,  0.049789 ,  0.16237  ,  0.51762  ,\n",
              "       -0.86124  , -0.35288  ,  0.42465  ,  0.29504  , -0.058929 ,\n",
              "       -0.042059 , -0.28304  ,  0.68163  , -0.38128  , -0.92071  ,\n",
              "        0.15022  , -0.48653  , -0.032471 , -1.0217   , -0.2536   ,\n",
              "        0.32984  ,  0.87331  , -0.25659  ,  0.41713  ,  0.70187  ,\n",
              "        0.26844  , -0.073702 ,  0.44943  ,  0.37148  , -1.1613   ,\n",
              "        0.18607  ,  0.22148  , -0.30284  , -0.30314  ,  0.14694  ,\n",
              "       -0.33141  ,  0.65478  , -0.047409 ,  0.73868  , -0.88869  ,\n",
              "       -0.10738  , -1.3663   , -0.40605  , -0.84452  ,  0.079424 ,\n",
              "       -0.57159  , -0.54494  ,  0.88383  ,  0.89814  , -0.65429  ,\n",
              "        0.60613  ,  0.32272  ,  0.14067  , -0.38329  ,  0.14519  ,\n",
              "       -0.16869  , -0.33883  , -0.49892  ,  0.76527  ,  0.65141  ,\n",
              "        0.08416  , -0.41384  ,  0.22261  ,  0.6159   , -0.39172  ,\n",
              "        1.4556   ,  0.31275  , -0.61297  , -0.63733  , -0.05102  ,\n",
              "        0.83986  , -0.33486  ,  0.68343  ,  0.80719  ,  0.17428  ],\n",
              "      dtype=float32)"
            ]
          },
          "execution_count": 16,
          "metadata": {},
          "output_type": "execute_result"
        }
      ]
    },
    {
      "cell_type": "code",
      "metadata": {
        "id": "8ymu373qJ_17",
        "outputId": "905d9db5-ce25-4508-fc3e-2344465d651f"
      },
      "source": [
        "model2.most_similar('teacher')"
      ],
      "execution_count": null,
      "outputs": [
        {
          "data": {
            "text/plain": [
              "[('student', 0.8083398938179016),\n",
              " ('school', 0.75455641746521),\n",
              " ('teaching', 0.7521439790725708),\n",
              " ('taught', 0.7411845922470093),\n",
              " ('teachers', 0.7291542887687683),\n",
              " ('graduate', 0.7134960293769836),\n",
              " ('instructor', 0.7077120542526245),\n",
              " ('students', 0.6828974485397339),\n",
              " ('teaches', 0.6552315950393677),\n",
              " ('education', 0.6528990268707275)]"
            ]
          },
          "execution_count": 17,
          "metadata": {},
          "output_type": "execute_result"
        }
      ]
    },
    {
      "cell_type": "code",
      "metadata": {
        "id": "JCIQAU3fJ_17",
        "outputId": "e7fa7a7e-25e3-452f-a55d-6bed9f398948"
      },
      "source": [
        "model2.most_similar('doctor')"
      ],
      "execution_count": null,
      "outputs": [
        {
          "data": {
            "text/plain": [
              "[('physician', 0.7673239707946777),\n",
              " ('nurse', 0.75215083360672),\n",
              " ('dr.', 0.7175193428993225),\n",
              " ('doctors', 0.7080885171890259),\n",
              " ('patient', 0.7074184417724609),\n",
              " ('medical', 0.6995993256568909),\n",
              " ('surgeon', 0.6905338764190674),\n",
              " ('hospital', 0.690092921257019),\n",
              " ('psychiatrist', 0.658909797668457),\n",
              " ('dentist', 0.6447421312332153)]"
            ]
          },
          "execution_count": 18,
          "metadata": {},
          "output_type": "execute_result"
        }
      ]
    },
    {
      "cell_type": "code",
      "metadata": {
        "id": "uENXZPNvJ_17",
        "outputId": "77ac7c64-34d1-4518-8fe8-111553154a8a"
      },
      "source": [
        "model2.most_similar(positive=['woman', 'brother'], negative=['man'], topn=1)"
      ],
      "execution_count": null,
      "outputs": [
        {
          "data": {
            "text/plain": [
              "[('daughter', 0.8917792439460754)]"
            ]
          },
          "execution_count": 19,
          "metadata": {},
          "output_type": "execute_result"
        }
      ]
    },
    {
      "cell_type": "code",
      "metadata": {
        "id": "lSFhyl0KJ_17",
        "outputId": "b72d4461-4d19-4ca7-d780-dec2fced932d"
      },
      "source": [
        "model2.most_similar(positive=['woman', 'father'], negative=['man'], topn=1)"
      ],
      "execution_count": null,
      "outputs": [
        {
          "data": {
            "text/plain": [
              "[('mother', 0.9024620056152344)]"
            ]
          },
          "execution_count": 20,
          "metadata": {},
          "output_type": "execute_result"
        }
      ]
    },
    {
      "cell_type": "code",
      "metadata": {
        "id": "6G1Dlg0JJ_18",
        "outputId": "f37a4b70-26d3-40e3-f531-0c0f4849cb90"
      },
      "source": [
        "model2.most_similar(positive=['woman', 'uncle'], negative=['man'], topn=1)"
      ],
      "execution_count": null,
      "outputs": [
        {
          "data": {
            "text/plain": [
              "[('aunt', 0.8368030786514282)]"
            ]
          },
          "execution_count": 21,
          "metadata": {},
          "output_type": "execute_result"
        }
      ]
    },
    {
      "cell_type": "code",
      "metadata": {
        "id": "7ZMWb8E7J_18",
        "outputId": "c2321366-e9f3-426e-e9de-5e866ce97d29"
      },
      "source": [
        "model2.most_similar(positive=['ankara', 'germany'], negative=['berlin'], topn=1)"
      ],
      "execution_count": null,
      "outputs": [
        {
          "data": {
            "text/plain": [
              "[('turkey', 0.8147119283676147)]"
            ]
          },
          "execution_count": 22,
          "metadata": {},
          "output_type": "execute_result"
        }
      ]
    },
    {
      "cell_type": "code",
      "metadata": {
        "id": "N3xo0G3nJ_18",
        "outputId": "302d3828-c642-4b8f-b4ac-ad4ea8c5fca3"
      },
      "source": [
        "model2.most_similar(positive=['teach', 'doctor'], negative=['treat'], topn=1)"
      ],
      "execution_count": null,
      "outputs": [
        {
          "data": {
            "text/plain": [
              "[('teacher', 0.7610154151916504)]"
            ]
          },
          "execution_count": 23,
          "metadata": {},
          "output_type": "execute_result"
        }
      ]
    },
    {
      "cell_type": "code",
      "metadata": {
        "id": "yc9gF_4GJ_18",
        "outputId": "05515fda-3399-4757-e3c4-546d794c14ac"
      },
      "source": [
        "model2.most_similar(positive=['woman', 'king'], negative=['man'], topn=1)"
      ],
      "execution_count": null,
      "outputs": [
        {
          "data": {
            "text/plain": [
              "[('queen', 0.7698541283607483)]"
            ]
          },
          "execution_count": 24,
          "metadata": {},
          "output_type": "execute_result"
        }
      ]
    },
    {
      "cell_type": "code",
      "metadata": {
        "id": "1kGaaIZcJ_18",
        "outputId": "030e3d0c-8e07-4d53-b514-af612d2c79a7"
      },
      "source": [
        "model2.most_similar(positive=['love', 'jealous'], negative=['hate'], topn=1)"
      ],
      "execution_count": null,
      "outputs": [
        {
          "data": {
            "text/plain": [
              "[('lover', 0.7032662630081177)]"
            ]
          },
          "execution_count": 25,
          "metadata": {},
          "output_type": "execute_result"
        }
      ]
    },
    {
      "cell_type": "code",
      "metadata": {
        "id": "_PcC-KyvJ_18"
      },
      "source": [
        ""
      ],
      "execution_count": null,
      "outputs": []
    }
  ]
}